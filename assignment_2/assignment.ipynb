{
 "cells": [
  {
   "cell_type": "markdown",
   "metadata": {},
   "source": [
    "### Ian Chow\n",
    "\n",
    "### CTA200\n",
    "\n",
    "### Assignment 2"
   ]
  },
  {
   "cell_type": "markdown",
   "metadata": {},
   "source": [
    "## Part 1"
   ]
  },
  {
   "cell_type": "markdown",
   "metadata": {},
   "source": [
    "Write a python function for the function $f(x) = x^3 - x^2 - 1$. Also, write a function for its derivative (you will have to work out $df/dx$ yourself), you can call these functions `f` and `df`."
   ]
  },
  {
   "cell_type": "markdown",
   "metadata": {},
   "source": [
    "We know that $f(x) = x^3 - x^2 - 1$. Computing the derivative of $f$, we have:\n",
    "\n",
    "\\begin{equation}\n",
    "    \\frac{df}{dx} = 3x^2 - 2x \\nonumber\n",
    "\\end{equation}\n",
    "\n",
    "$f(x)$ and $df/dx$ are thus implemented in Python as follows:"
   ]
  },
  {
   "cell_type": "code",
   "execution_count": 1,
   "metadata": {},
   "outputs": [],
   "source": [
    "def f(x):\n",
    "    \"\"\"\n",
    "    finish docs\n",
    "    \"\"\"\n",
    "    return x ** 3 - x ** 2 - 1\n",
    "\n",
    "def df(x):\n",
    "    \"\"\"\n",
    "    finish docs\n",
    "    \"\"\"\n",
    "    return 3 * x ** 2 - 2 * x"
   ]
  },
  {
   "cell_type": "markdown",
   "metadata": {},
   "source": [
    "## Part 2:"
   ]
  },
  {
   "cell_type": "markdown",
   "metadata": {},
   "source": [
    "Write a function `newton(f, df, x0, epsilon=1e-6, max_iter=30)` which performs a Newton Iteration of the function `f` with derivative `df.`\n",
    "\n",
    "Newton iteration finds the root ($x_n$ such that $f(x_n) = 0$). \n",
    "\n",
    "To do this, implement the recursive expression $x_{n + 1} = x_n - \\frac{f(x_n)}{f'(x_n)}$ using a loop.\n",
    "\n",
    "The iteration should stop either when `max_iter` is reached or when $f(x_n) <$ `epsilon`. If the method succeeds, (ie $f\\left(x_n\\right) <$ `epsilon`), then your function should print `\"Found root in <N> iterations\"` and should return the value of $x_n$. Otherwise, it should print `\"Iteration failed\"` and return `None`.\n",
    "\n",
    "Make sure that your function is documented with Numpy style documentation."
   ]
  },
  {
   "cell_type": "markdown",
   "metadata": {},
   "source": [
    "Our function `newton` that implements Newton-Raphson iteration in Python is as follows:"
   ]
  },
  {
   "cell_type": "code",
   "execution_count": 2,
   "metadata": {},
   "outputs": [],
   "source": [
    "def newton(f, df, x0, epsilon=1e-6, max_iter=30):\n",
    "    \"\"\"\n",
    "    finish docs\n",
    "    \"\"\"\n",
    "    xn = x0  # initialize x_n as x_0, the starting guess for Newton-Raphson iteration\n",
    "    # perform up to a maximum of max_iter iterations\n",
    "    for i in range(0, max_iter):\n",
    "        if abs(f(xn)) < epsilon:  # note that we need to use abs of f(x_n) to find if method has converged to a root:\n",
    "            print(f'Found root in {i} iterations')  # print number of iterations taken to find the root\n",
    "            return xn\n",
    "        xn = xn - f(xn)/df(xn)  # implement the recursive expreession x_{n + 1} = x_n - f(x_n)/f'(x_n) as required\n",
    "        # iteratively updating x_n based on previous expression\n",
    "    # if after max_iter iterations it can't find anything, print iteration failed and return None\n",
    "    print('Iteration failed')\n",
    "    return None"
   ]
  },
  {
   "cell_type": "markdown",
   "metadata": {},
   "source": [
    "## Part 3:"
   ]
  },
  {
   "cell_type": "markdown",
   "metadata": {},
   "source": [
    "Try out your function with the function you defined in part 1. You can experiment with setting $x_0$ differently (show at least two examples of $x_0$ in the notebook). Leave `epsilon` and `max_iter` as the default values specified in part $2$. \n",
    "\n",
    "Try reducing `epsilon` to $1e-8$. Does it still work? If so, how many more iterations does it take to converge."
   ]
  },
  {
   "cell_type": "markdown",
   "metadata": {},
   "source": [
    "We try computing $x_0$ with setting $x_0 = -1, 0.01, 1$ and $5$:"
   ]
  },
  {
   "cell_type": "code",
   "execution_count": 3,
   "metadata": {},
   "outputs": [
    {
     "name": "stdout",
     "output_type": "stream",
     "text": [
      "\n",
      "x_0 = -1:\n",
      "Found root in 15 iterations\n",
      "1.4655712348572754\n",
      "\n",
      "x_0 = 0.01:\n",
      "Found root in 19 iterations\n",
      "1.4655714721100956\n",
      "\n",
      "x_0 = 1:\n",
      "Found root in 5 iterations\n",
      "1.4655713749070918\n",
      "\n",
      "x_0 = 5:\n",
      "Found root in 7 iterations\n",
      "1.4655712402015129\n"
     ]
    }
   ],
   "source": [
    "x0s = [-1, 0.01, 1, 5]  # values of x_0 that we want to test:\n",
    "\n",
    "# try the newton raphson iteration function using different values of x0:\n",
    "for x0 in x0s:\n",
    "    print(f'\\nx_0 = {x0}:')\n",
    "    print(newton(f, df, x0))"
   ]
  },
  {
   "cell_type": "markdown",
   "metadata": {},
   "source": [
    "As can be seen, Newton-Raphson iteration converges to the single root $x \\sim 1.4656$ for different values of $x_0$. For values far away from the root, it may not converge within the default maxmimum number of iterations since it might be too far away from the root to reach within a certain number of steps. Moreover, for values of $x_0$ very close to $0$ it may also not converge within the maximum number of iterations. Since $f'(0) = 0$, the dividing by `df` step is very sensitive to small changes for $x_0$ close to $0$. This can be seen in our testing, as the $x_0 = 0.01$ takes more iterations than the other three tested."
   ]
  },
  {
   "cell_type": "markdown",
   "metadata": {},
   "source": [
    "Now we reduce `epsilon` to $1e-8$ in our function and try the Newton-Raphson iteration function again:"
   ]
  },
  {
   "cell_type": "code",
   "execution_count": 4,
   "metadata": {},
   "outputs": [
    {
     "name": "stdout",
     "output_type": "stream",
     "text": [
      "epsilon = 10^-8:\n",
      "\n",
      "x_0 = -1:\n",
      "Found root in 16 iterations\n",
      "1.465571231876768\n",
      "\n",
      "x_0 = 0.01:\n",
      "Found root in 20 iterations\n",
      "1.465571231876824\n",
      "\n",
      "x_0 = 1:\n",
      "Found root in 6 iterations\n",
      "1.4655712318767877\n",
      "\n",
      "x_0 = 5:\n",
      "Found root in 8 iterations\n",
      "1.4655712318767682\n"
     ]
    }
   ],
   "source": [
    "# try newton raphson iteration function using epsilon = 10^-8 this time:\n",
    "print('epsilon = 10^-8:')\n",
    "\n",
    "for x0 in x0s:\n",
    "    print(f'\\nx_0 = {x0}:')\n",
    "    print(newton(f, df, x0, epsilon=1e-8))  # change default value of epsilon this time"
   ]
  },
  {
   "cell_type": "markdown",
   "metadata": {},
   "source": [
    "The function still works as expected, but it now takes more iterations to converge (since $\\epsilon$ is smaller). For all four values of $x_0$, the function took $1$ more iteration to converge to the smaller tolerance $\\epsilon = 10^{-8}$ compared to $\\epsilon = 10^{-6}$."
   ]
  }
 ],
 "metadata": {
  "kernelspec": {
   "display_name": "Python 3",
   "language": "python",
   "name": "python3"
  },
  "language_info": {
   "codemirror_mode": {
    "name": "ipython",
    "version": 3
   },
   "file_extension": ".py",
   "mimetype": "text/x-python",
   "name": "python",
   "nbconvert_exporter": "python",
   "pygments_lexer": "ipython3",
   "version": "3.8.10"
  }
 },
 "nbformat": 4,
 "nbformat_minor": 4
}
